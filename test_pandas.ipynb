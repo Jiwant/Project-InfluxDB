{
 "cells": [
  {
   "cell_type": "code",
   "execution_count": 1,
   "metadata": {},
   "outputs": [],
   "source": [
    "import numpy as np\n",
    "import pandas as pd\n",
    "import matplotlib.pyplot as plt"
   ]
  },
  {
   "cell_type": "code",
   "execution_count": 2,
   "metadata": {},
   "outputs": [],
   "source": [
    "apple_data = pd.read_csv(r'D:/Conestoga_2/Case_Studies/Project-InfluxDB/data.csv')"
   ]
  },
  {
   "cell_type": "code",
   "execution_count": 3,
   "metadata": {},
   "outputs": [
    {
     "data": {
      "text/html": [
       "<div>\n",
       "<style scoped>\n",
       "    .dataframe tbody tr th:only-of-type {\n",
       "        vertical-align: middle;\n",
       "    }\n",
       "\n",
       "    .dataframe tbody tr th {\n",
       "        vertical-align: top;\n",
       "    }\n",
       "\n",
       "    .dataframe thead th {\n",
       "        text-align: right;\n",
       "    }\n",
       "</style>\n",
       "<table border=\"1\" class=\"dataframe\">\n",
       "  <thead>\n",
       "    <tr style=\"text-align: right;\">\n",
       "      <th></th>\n",
       "      <th>Date</th>\n",
       "      <th>Open</th>\n",
       "      <th>High</th>\n",
       "      <th>Low</th>\n",
       "      <th>Close</th>\n",
       "      <th>Adj Close</th>\n",
       "      <th>Volume</th>\n",
       "    </tr>\n",
       "  </thead>\n",
       "  <tbody>\n",
       "    <tr>\n",
       "      <th>0</th>\n",
       "      <td>2013-12-10</td>\n",
       "      <td>80.511429</td>\n",
       "      <td>81.125717</td>\n",
       "      <td>80.171425</td>\n",
       "      <td>80.792854</td>\n",
       "      <td>72.922142</td>\n",
       "      <td>69567400</td>\n",
       "    </tr>\n",
       "    <tr>\n",
       "      <th>1</th>\n",
       "      <td>2013-12-11</td>\n",
       "      <td>81.000000</td>\n",
       "      <td>81.567146</td>\n",
       "      <td>79.955711</td>\n",
       "      <td>80.194283</td>\n",
       "      <td>72.381866</td>\n",
       "      <td>89929700</td>\n",
       "    </tr>\n",
       "    <tr>\n",
       "      <th>2</th>\n",
       "      <td>2013-12-12</td>\n",
       "      <td>80.305717</td>\n",
       "      <td>80.762856</td>\n",
       "      <td>80.004288</td>\n",
       "      <td>80.077141</td>\n",
       "      <td>72.276154</td>\n",
       "      <td>65572500</td>\n",
       "    </tr>\n",
       "    <tr>\n",
       "      <th>3</th>\n",
       "      <td>2013-12-13</td>\n",
       "      <td>80.407143</td>\n",
       "      <td>80.411430</td>\n",
       "      <td>79.095711</td>\n",
       "      <td>79.204285</td>\n",
       "      <td>71.488319</td>\n",
       "      <td>83205500</td>\n",
       "    </tr>\n",
       "    <tr>\n",
       "      <th>4</th>\n",
       "      <td>2013-12-16</td>\n",
       "      <td>79.288574</td>\n",
       "      <td>80.377144</td>\n",
       "      <td>79.287140</td>\n",
       "      <td>79.642860</td>\n",
       "      <td>71.884155</td>\n",
       "      <td>70648200</td>\n",
       "    </tr>\n",
       "  </tbody>\n",
       "</table>\n",
       "</div>"
      ],
      "text/plain": [
       "         Date       Open       High        Low      Close  Adj Close    Volume\n",
       "0  2013-12-10  80.511429  81.125717  80.171425  80.792854  72.922142  69567400\n",
       "1  2013-12-11  81.000000  81.567146  79.955711  80.194283  72.381866  89929700\n",
       "2  2013-12-12  80.305717  80.762856  80.004288  80.077141  72.276154  65572500\n",
       "3  2013-12-13  80.407143  80.411430  79.095711  79.204285  71.488319  83205500\n",
       "4  2013-12-16  79.288574  80.377144  79.287140  79.642860  71.884155  70648200"
      ]
     },
     "execution_count": 3,
     "metadata": {},
     "output_type": "execute_result"
    }
   ],
   "source": [
    "apple_data.head()"
   ]
  },
  {
   "cell_type": "code",
   "execution_count": 4,
   "metadata": {},
   "outputs": [
    {
     "data": {
      "text/html": [
       "<div>\n",
       "<style scoped>\n",
       "    .dataframe tbody tr th:only-of-type {\n",
       "        vertical-align: middle;\n",
       "    }\n",
       "\n",
       "    .dataframe tbody tr th {\n",
       "        vertical-align: top;\n",
       "    }\n",
       "\n",
       "    .dataframe thead th {\n",
       "        text-align: right;\n",
       "    }\n",
       "</style>\n",
       "<table border=\"1\" class=\"dataframe\">\n",
       "  <thead>\n",
       "    <tr style=\"text-align: right;\">\n",
       "      <th></th>\n",
       "      <th>Open</th>\n",
       "      <th>High</th>\n",
       "      <th>Low</th>\n",
       "      <th>Close</th>\n",
       "      <th>Adj Close</th>\n",
       "      <th>Volume</th>\n",
       "    </tr>\n",
       "    <tr>\n",
       "      <th>Date</th>\n",
       "      <th></th>\n",
       "      <th></th>\n",
       "      <th></th>\n",
       "      <th></th>\n",
       "      <th></th>\n",
       "      <th></th>\n",
       "    </tr>\n",
       "  </thead>\n",
       "  <tbody>\n",
       "    <tr>\n",
       "      <th>2013-12-10</th>\n",
       "      <td>80.511429</td>\n",
       "      <td>81.125717</td>\n",
       "      <td>80.171425</td>\n",
       "      <td>80.792854</td>\n",
       "      <td>72.922142</td>\n",
       "      <td>69567400</td>\n",
       "    </tr>\n",
       "    <tr>\n",
       "      <th>2013-12-11</th>\n",
       "      <td>81.000000</td>\n",
       "      <td>81.567146</td>\n",
       "      <td>79.955711</td>\n",
       "      <td>80.194283</td>\n",
       "      <td>72.381866</td>\n",
       "      <td>89929700</td>\n",
       "    </tr>\n",
       "    <tr>\n",
       "      <th>2013-12-12</th>\n",
       "      <td>80.305717</td>\n",
       "      <td>80.762856</td>\n",
       "      <td>80.004288</td>\n",
       "      <td>80.077141</td>\n",
       "      <td>72.276154</td>\n",
       "      <td>65572500</td>\n",
       "    </tr>\n",
       "    <tr>\n",
       "      <th>2013-12-13</th>\n",
       "      <td>80.407143</td>\n",
       "      <td>80.411430</td>\n",
       "      <td>79.095711</td>\n",
       "      <td>79.204285</td>\n",
       "      <td>71.488319</td>\n",
       "      <td>83205500</td>\n",
       "    </tr>\n",
       "    <tr>\n",
       "      <th>2013-12-16</th>\n",
       "      <td>79.288574</td>\n",
       "      <td>80.377144</td>\n",
       "      <td>79.287140</td>\n",
       "      <td>79.642860</td>\n",
       "      <td>71.884155</td>\n",
       "      <td>70648200</td>\n",
       "    </tr>\n",
       "  </tbody>\n",
       "</table>\n",
       "</div>"
      ],
      "text/plain": [
       "                 Open       High        Low      Close  Adj Close    Volume\n",
       "Date                                                                       \n",
       "2013-12-10  80.511429  81.125717  80.171425  80.792854  72.922142  69567400\n",
       "2013-12-11  81.000000  81.567146  79.955711  80.194283  72.381866  89929700\n",
       "2013-12-12  80.305717  80.762856  80.004288  80.077141  72.276154  65572500\n",
       "2013-12-13  80.407143  80.411430  79.095711  79.204285  71.488319  83205500\n",
       "2013-12-16  79.288574  80.377144  79.287140  79.642860  71.884155  70648200"
      ]
     },
     "execution_count": 4,
     "metadata": {},
     "output_type": "execute_result"
    }
   ],
   "source": [
    "#Convert Date option into String\n",
    "apple_data['Date'] = apple_data['Date'].apply(pd.to_datetime)\n",
    "#Set Date as Index for DataFrame\n",
    "apple_data.set_index('Date', inplace=True)\n",
    "apple_data.head()"
   ]
  },
  {
   "cell_type": "code",
   "execution_count": 5,
   "metadata": {},
   "outputs": [
    {
     "data": {
      "text/plain": [
       "<matplotlib.axes._subplots.AxesSubplot at 0x200ff61bb38>"
      ]
     },
     "execution_count": 5,
     "metadata": {},
     "output_type": "execute_result"
    },
    {
     "data": {
      "image/png": "[encoded data removed]",
      "text/plain": [
       "<Figure size 576x432 with 1 Axes>"
      ]
     },
     "metadata": {
      "needs_background": "light"
     },
     "output_type": "display_data"
    }
   ],
   "source": [
    "plt.rcParams['figure.figsize'] = (8, 6)\n",
    "apple_data[\"Close\"].plot(grid=True)"
   ]
  },
  {
   "cell_type": "code",
   "execution_count": 12,
   "metadata": {},
   "outputs": [
    {
     "data": {
      "image/png": "[encoded data removed]",
      "text/plain": [
       "<Figure size 432x288 with 1 Axes>"
      ]
     },
     "metadata": {
      "needs_background": "light"
     },
     "output_type": "display_data"
    }
   ],
   "source": [
    "%matplotlib inline\n",
    "import time\n",
    "import matplotlib.animation as animation\n",
    "fig = plt.figure()\n",
    "ax = fig.add_subplot(1,1,1)\n",
    "xd = []\n",
    "yd = []\n",
    "for i in range(1, 10):\n",
    "    xd.append(i)\n",
    "    yd.append(2*i)\n",
    "    ax.plot(xd, yd)\n",
    "    time.sleep(1)\n",
    "\n",
    "ani = animation.FuncAnimation()    "
   ]
  },
  {
   "cell_type": "code",
   "execution_count": null,
   "metadata": {},
   "outputs": [],
   "source": []
  }
 ],
 "metadata": {
  "kernelspec": {
   "display_name": "Python 3",
   "language": "python",
   "name": "python3"
  },
  "language_info": {
   "codemirror_mode": {
    "name": "ipython",
    "version": 3
   },
   "file_extension": ".py",
   "mimetype": "text/x-python",
   "name": "python",
   "nbconvert_exporter": "python",
   "pygments_lexer": "ipython3",
   "version": "3.6.8"
  }
 },
 "nbformat": 4,
 "nbformat_minor": 2
}
